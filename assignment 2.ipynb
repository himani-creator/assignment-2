{
 "cells": [
  {
   "cell_type": "code",
   "execution_count": 1,
   "id": "b1e6805f-4b6c-47e3-8dd3-716d7e2545b0",
   "metadata": {},
   "outputs": [],
   "source": [
    "Q1.How do you comment code in Python? What are the different types of comments?\n",
    "#We use '##' to comment code in python. There are 2 types of comments -  single line and multiline."
   ]
  },
  {
   "cell_type": "code",
   "execution_count": 5,
   "id": "f9574db8-dfc8-435b-bcf7-1809303db213",
   "metadata": {},
   "outputs": [],
   "source": [
    "'''Q2. What are variables in Python? How do you declare and assign values to variables?\n",
    "Variable is a container which stores value. We can declare and assign values to variables by using = assigning operator.\n",
    "for example - \n",
    "a = 10\n",
    "wherein,  a is variable and we have assigned 10 to variable a ''' "
   ]
  },
  {
   "cell_type": "code",
   "execution_count": 8,
   "id": "1a86744b-1ade-4a06-899d-bc5155078c94",
   "metadata": {},
   "outputs": [
    {
     "data": {
      "text/plain": [
       "int"
      ]
     },
     "execution_count": 8,
     "metadata": {},
     "output_type": "execute_result"
    }
   ],
   "source": [
    "'''Q3. How do you convert one data type to another in Python?\n",
    "We can convert one data type to another by using typecasting feature.\n",
    "for example - '''\n",
    "a = 10\n",
    "type(a)"
   ]
  },
  {
   "cell_type": "code",
   "execution_count": 9,
   "id": "ceb38b1d-93be-4573-bb66-9d5985d88771",
   "metadata": {},
   "outputs": [
    {
     "data": {
      "text/plain": [
       "'10'"
      ]
     },
     "execution_count": 9,
     "metadata": {},
     "output_type": "execute_result"
    }
   ],
   "source": [
    "str(a)"
   ]
  },
  {
   "cell_type": "code",
   "execution_count": 10,
   "id": "e76e5bb5-9a2e-4dbf-b249-7f6bd8c24a5c",
   "metadata": {},
   "outputs": [
    {
     "data": {
      "text/plain": [
       "'We will verify if system has python by using command prompt and then write a program on installed terminal \\nand execute it by clicking on \"run\" command. '"
      ]
     },
     "execution_count": 10,
     "metadata": {},
     "output_type": "execute_result"
    }
   ],
   "source": [
    "'''Q4. How do you write and execute a Python script from the command line?'''\n",
    "'''We will verify if system has python by using command prompt and then write a program on installed terminal \n",
    "and execute it by clicking on \"run\" command. '''"
   ]
  },
  {
   "cell_type": "code",
   "execution_count": 11,
   "id": "069edf82-46b0-4810-b228-d6c52a02b956",
   "metadata": {},
   "outputs": [
    {
     "data": {
      "text/plain": [
       "[2, 3]"
      ]
     },
     "execution_count": 11,
     "metadata": {},
     "output_type": "execute_result"
    }
   ],
   "source": [
    "'''Q5. Given a list my_list = [1, 2, 3, 4, 5], write the code to slice the list and obtain the sub-list [2, 3].'''\n",
    "my_list = [1,2,3,4,5]\n",
    "my_list[1:3]"
   ]
  },
  {
   "cell_type": "code",
   "execution_count": 12,
   "id": "3be13175-f370-41f3-9fba-266fdb028a7a",
   "metadata": {},
   "outputs": [
    {
     "data": {
      "text/plain": [
       "'Q6. What is a complex number in mathematics, and how is it represented in Python?\\nComplex number is a combination of real and imaginary numbers. It is represented as 5i +4 in mathematics and  \\n5j+4 in python.'"
      ]
     },
     "execution_count": 12,
     "metadata": {},
     "output_type": "execute_result"
    }
   ],
   "source": [
    "'''Q6. What is a complex number in mathematics, and how is it represented in Python?\n",
    "Complex number is a combination of real and imaginary numbers. It is represented as 5i +4 in mathematics and  \n",
    "5j+4 in python.'''"
   ]
  },
  {
   "cell_type": "code",
   "execution_count": 13,
   "id": "4f28ec5e-d088-4d8d-aa99-44e445132282",
   "metadata": {},
   "outputs": [],
   "source": [
    "\n",
    "'''Q7. What is the correct way to declare a variable named age and assign the value 25 to it?'''\n",
    "age = 25\n"
   ]
  },
  {
   "cell_type": "code",
   "execution_count": 14,
   "id": "896814fc-9efb-42d2-ba42-46fb8564cea7",
   "metadata": {},
   "outputs": [
    {
     "data": {
      "text/plain": [
       "float"
      ]
     },
     "execution_count": 14,
     "metadata": {},
     "output_type": "execute_result"
    }
   ],
   "source": [
    "'''Q8. Declare a variable named price and assign the value 9.99 to it. What data type does this variable\n",
    "belong to?'''\n",
    "price = 9.99\n",
    "type(price)"
   ]
  },
  {
   "cell_type": "code",
   "execution_count": 16,
   "id": "c8810562-4c02-4afb-8d9e-0cc5ecdc4738",
   "metadata": {},
   "outputs": [
    {
     "name": "stdout",
     "output_type": "stream",
     "text": [
      "himani manral\n"
     ]
    }
   ],
   "source": [
    "'''Q9. Create a variable named name and assign your full name to it as a string. How would you print the\n",
    "value of this variable?'''\n",
    "name=\"himani manral\"\n",
    "print(name)"
   ]
  },
  {
   "cell_type": "code",
   "execution_count": 17,
   "id": "55ac8f00-bf97-41f1-ba62-b2c139c977e8",
   "metadata": {},
   "outputs": [
    {
     "data": {
      "text/plain": [
       "'himani manral'"
      ]
     },
     "execution_count": 17,
     "metadata": {},
     "output_type": "execute_result"
    }
   ],
   "source": [
    "name"
   ]
  },
  {
   "cell_type": "code",
   "execution_count": 19,
   "id": "51f5a1e6-8f0e-4e31-966b-ef2fb59b0618",
   "metadata": {},
   "outputs": [
    {
     "data": {
      "text/plain": [
       "'World'"
      ]
     },
     "execution_count": 19,
     "metadata": {},
     "output_type": "execute_result"
    }
   ],
   "source": [
    "'''Q10. Given the string \"Hello, World!\", extract the substring \"World\".'''\n",
    "St =\"Hello, World!\"\n",
    "St[7:12]"
   ]
  },
  {
   "cell_type": "code",
   "execution_count": 28,
   "id": "ab4e7018-f5f2-45c0-acf1-c40e01ae95b2",
   "metadata": {},
   "outputs": [
    {
     "name": "stdin",
     "output_type": "stream",
     "text": [
      "are you currently a student or not (True/False):  False\n"
     ]
    },
    {
     "name": "stdout",
     "output_type": "stream",
     "text": [
      "no currently not a student\n"
     ]
    }
   ],
   "source": [
    "'''Q11. Create a variable named \"is_student\" and assign it a boolean value indicating whether you are\n",
    "currently a student or not.'''\n",
    "is_student=input(\"are you currently a student or not (True/False): \")\n",
    "if is_student == \"True\":\n",
    "    print(\"yes currently a student\")\n",
    "else:\n",
    "    print(\"no currently not a student\")"
   ]
  },
  {
   "cell_type": "code",
   "execution_count": 29,
   "id": "35368e10-0abf-45f5-ac34-5b5d9fd79375",
   "metadata": {},
   "outputs": [
    {
     "data": {
      "text/plain": [
       "'False'"
      ]
     },
     "execution_count": 29,
     "metadata": {},
     "output_type": "execute_result"
    }
   ],
   "source": [
    "is_student"
   ]
  },
  {
   "cell_type": "code",
   "execution_count": null,
   "id": "7cea1238-b9a7-4ad3-913c-2da1f5c99437",
   "metadata": {},
   "outputs": [],
   "source": []
  }
 ],
 "metadata": {
  "kernelspec": {
   "display_name": "Python 3 (ipykernel)",
   "language": "python",
   "name": "python3"
  },
  "language_info": {
   "codemirror_mode": {
    "name": "ipython",
    "version": 3
   },
   "file_extension": ".py",
   "mimetype": "text/x-python",
   "name": "python",
   "nbconvert_exporter": "python",
   "pygments_lexer": "ipython3",
   "version": "3.10.8"
  }
 },
 "nbformat": 4,
 "nbformat_minor": 5
}
